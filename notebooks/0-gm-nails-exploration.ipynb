{
 "cells": [
  {
   "cell_type": "code",
   "execution_count": 2,
   "metadata": {},
   "outputs": [],
   "source": [
    "import sys\n",
    "import pandas as pd\n",
    "import matplotlib.pyplot as plt\n",
    "import os\n",
    "\n",
    "# Set the working directory\n",
    "PROJ_ROOT = os.path.join( os.pardir )\n",
    "sys.path.append( PROJ_ROOT )\n",
    "# Load the dataset\n",
    "\n"
   ]
  },
  {
   "cell_type": "code",
   "execution_count": 4,
   "metadata": {},
   "outputs": [],
   "source": [
    "nails_path = os.path.join(PROJ_ROOT,'data','raw', 'nails.txt')\n",
    "\n",
    "\n"
   ]
  },
  {
   "cell_type": "code",
   "execution_count": 5,
   "metadata": {},
   "outputs": [],
   "source": [
    "data = pd.read_csv(nails_path, delimiter=' ', header=0, skipinitialspace=True)\n",
    "\n",
    "# usecols=[\"SiA\",\"SiB\",\"CrA\", \"CrB\", \"MnA\", \"MnB\",  \"NiA\",   \"NiB\" ]\n",
    "# #rename first 8 columns to match the usecols\n",
    "# data = data.rename(columns=dict(zip(data.columns[0:7], usecols)))\n",
    "data = data.iloc[:, :8]\n",
    "\n",
    "\n"
   ]
  },
  {
   "cell_type": "code",
   "execution_count": 6,
   "metadata": {},
   "outputs": [
    {
     "name": "stdout",
     "output_type": "stream",
     "text": [
      "Shape: (16, 8)\n",
      "Head:      SiA    SiB    CrA    CrB    MnA    MnB    NiA    NiB\n",
      "0  0.218  0.194  0.140  0.198  0.582  0.846  0.090  0.077\n",
      "1  0.186  0.226  0.143  0.134  0.778  0.560  0.084  0.103\n",
      "2  0.235  0.170  0.103  0.145  0.456  0.586  0.113  0.118\n",
      "3  0.222  0.191  0.110  0.114  0.681  0.607  0.103  0.123\n",
      "4  0.208  0.191  0.101  0.127  0.384  0.629  0.093  0.110\n",
      "Tail:       SiA    SiB    CrA    CrB    MnA    MnB    NiA    NiB\n",
      "11  0.243  0.248  0.079  0.176  0.521  0.608  0.116  0.086\n",
      "12  0.263  0.213  0.061  0.101  0.370  0.940  0.124  0.106\n",
      "13  0.161  0.225  0.113  0.089  0.723  0.516  0.097  0.119\n",
      "14  0.178    NaN  0.124    NaN  0.712    NaN  0.082    NaN\n",
      "15  0.195    NaN  0.101    NaN  0.636    NaN  0.148    NaN\n",
      "Description:              SiA        SiB        CrA        CrB        MnA        MnB  \\\n",
      "count  16.000000  14.000000  16.000000  14.000000  16.000000  14.000000   \n",
      "mean    0.212250   0.222500   0.113875   0.131214   0.576750   0.628857   \n",
      "std     0.025444   0.034171   0.036722   0.030785   0.137468   0.125866   \n",
      "min     0.161000   0.170000   0.053000   0.089000   0.370000   0.466000   \n",
      "25%     0.200250   0.192500   0.099000   0.114000   0.464250   0.564500   \n",
      "50%     0.211000   0.224500   0.111500   0.128000   0.601500   0.607500   \n",
      "75%     0.229000   0.244750   0.130250   0.144000   0.688750   0.637250   \n",
      "max     0.263000   0.299000   0.203000   0.198000   0.778000   0.940000   \n",
      "\n",
      "             NiA        NiB  \n",
      "count  16.000000  14.000000  \n",
      "mean    0.119938   0.106929  \n",
      "std     0.026127   0.025427  \n",
      "min     0.082000   0.070000  \n",
      "25%     0.096000   0.088750  \n",
      "50%     0.120000   0.104500  \n",
      "75%     0.143000   0.118750  \n",
      "max     0.160000   0.167000  \n",
      "Data Types: SiA    float64\n",
      "SiB    float64\n",
      "CrA    float64\n",
      "CrB    float64\n",
      "MnA    float64\n",
      "MnB    float64\n",
      "NiA    float64\n",
      "NiB    float64\n",
      "dtype: object\n",
      "Missing Values: SiB    0.125\n",
      "CrB    0.125\n",
      "MnB    0.125\n",
      "NiB    0.125\n",
      "dtype: float64\n"
     ]
    }
   ],
   "source": [
    "from src.features.build_features import explore_data\n",
    "\n",
    "explore_data(data)"
   ]
  },
  {
   "cell_type": "code",
   "execution_count": null,
   "metadata": {},
   "outputs": [],
   "source": []
  },
  {
   "cell_type": "code",
   "execution_count": 106,
   "metadata": {},
   "outputs": [
    {
     "data": {
      "text/plain": [
       "SiA    0\n",
       "SiB    2\n",
       "CrA    0\n",
       "CrB    2\n",
       "MnA    0\n",
       "MnB    2\n",
       "NiA    0\n",
       "NiB    2\n",
       "dtype: int64"
      ]
     },
     "execution_count": 106,
     "metadata": {},
     "output_type": "execute_result"
    }
   ],
   "source": [
    "# count the number of missing values\n",
    "data.isnull().sum()"
   ]
  },
  {
   "cell_type": "code",
   "execution_count": 116,
   "metadata": {},
   "outputs": [],
   "source": [
    "# replace missing values with the mean of the column\n",
    "\n",
    "from numpy import NaN\n",
    "from src.features.build_features import replace_value_with_grouped_mean\n",
    "\n"
   ]
  },
  {
   "cell_type": "code",
   "execution_count": 117,
   "metadata": {},
   "outputs": [
    {
     "data": {
      "image/png": "[encoded data removed]",
      "text/plain": [
       "<Figure size 640x480 with 1 Axes>"
      ]
     },
     "metadata": {},
     "output_type": "display_data"
    }
   ],
   "source": [
    "# Check if 'Length' column exists in the DataFrame\n",
    "\n",
    "# Remove the first row from the DataFrame\n",
    "nails1 = data.iloc[1:]\n",
    "\n",
    "# Convert all columns to numeric\n",
    "nails_n = nails1.apply(pd.to_numeric)\n",
    "\n",
    "\n",
    "# Plot boxplot\n",
    "nails_n.boxplot()\n",
    "\n",
    "# Add labels and title\n",
    "plt.xlabel('Columns')\n",
    "plt.ylabel('Values')\n",
    "plt.title('Boxplot of Nails Data')\n",
    "\n",
    "# Show the plot\n",
    "plt.show()\n",
    "\n"
   ]
  },
  {
   "cell_type": "code",
   "execution_count": 102,
   "metadata": {},
   "outputs": [
    {
     "name": "stdout",
     "output_type": "stream",
     "text": [
      "[[ 0.00069112 -0.00035984 -0.00244659  0.00024299]\n",
      " [-0.00035984  0.00139284  0.00374666 -0.00013535]\n",
      " [-0.00244659  0.00374666  0.02024511 -0.00133683]\n",
      " [ 0.00024299 -0.00013535 -0.00133683  0.00066307]]\n"
     ]
    }
   ],
   "source": [
    "import numpy as np\n",
    "\n",
    "# Extract the columns from nails_n dataframe\n",
    "nails_n_columns = nails_n.iloc[:,[0, 2, 4, 6]]\n",
    "\n",
    "# Calculate the covariance matrix S1\n",
    "S1 = np.cov(nails_n_columns, rowvar=False)\n",
    "\n",
    "print(S1)\n"
   ]
  },
  {
   "cell_type": "code",
   "execution_count": 118,
   "metadata": {},
   "outputs": [
    {
     "name": "stdout",
     "output_type": "stream",
     "text": [
      "[[nan nan nan nan]\n",
      " [nan nan nan nan]\n",
      " [nan nan nan nan]\n",
      " [nan nan nan nan]]\n"
     ]
    }
   ],
   "source": [
    "# Extract the columns from nails_n dataframe\n",
    "nails_odd_columns = nails_n.iloc[:,[1, 3, 5, 7]]\n",
    "\n",
    "# Calculate the covariance matrix S1\n",
    "S2 = np.cov(nails_odd_columns, rowvar=False)\n",
    "\n",
    "print(S2)"
   ]
  }
 ],
 "metadata": {
  "kernelspec": {
   "display_name": "document_classification",
   "language": "python",
   "name": "python3"
  },
  "language_info": {
   "codemirror_mode": {
    "name": "ipython",
    "version": 3
   },
   "file_extension": ".py",
   "mimetype": "text/x-python",
   "name": "python",
   "nbconvert_exporter": "python",
   "pygments_lexer": "ipython3",
   "version": "3.10.12"
  }
 },
 "nbformat": 4,
 "nbformat_minor": 2
}
